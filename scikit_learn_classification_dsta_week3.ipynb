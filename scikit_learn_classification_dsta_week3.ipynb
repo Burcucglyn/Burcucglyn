{
  "cells": [
    {
      "cell_type": "markdown",
      "metadata": {
        "id": "view-in-github",
        "colab_type": "text"
      },
      "source": [
        "<a href=\"https://colab.research.google.com/github/Burcucglyn/Burcucglyn/blob/main/scikit_learn_classification_dsta_week3.ipynb\" target=\"_parent\"><img src=\"https://colab.research.google.com/assets/colab-badge.svg\" alt=\"Open In Colab\"/></a>"
      ]
    },
    {
      "cell_type": "markdown",
      "metadata": {
        "collapsed": false,
        "id": "4XGCGjF-Mu1r"
      },
      "source": [
        "## Scikit-learn classification lab\n",
        "\n",
        "### An introduction and a classification lab\n",
        "\n",
        "This notebook i) introduces the main practical aspects of Scikit-learn and ii) runs two applications of the k-NN algorithm:\n",
        "\n",
        "- the Iris dataset from Fisher, and\n",
        "  \n",
        "- the Blood cancer dataset, which is also available from the [Openml.org](https://openml.org/) public repository.\n",
        "\n",
        "The general organisation and code snippets are courtesy of [Andreas C. Mueller, NYU](https://github.com/amueller/)"
      ]
    },
    {
      "cell_type": "markdown",
      "metadata": {
        "collapsed": false,
        "id": "RAWY1rd5Mu1t"
      },
      "source": [
        "### Case study 1: *Classification with the Iris dataset*\n",
        "\n",
        "The dataset is available directly from from `sklearn.datasets`.\n",
        "\n"
      ]
    },
    {
      "cell_type": "markdown",
      "metadata": {
        "collapsed": false,
        "id": "OVWV_yexMu1u"
      },
      "source": [
        "#### Package Imports"
      ]
    },
    {
      "cell_type": "code",
      "execution_count": null,
      "metadata": {
        "pycharm": {
          "name": "#%%\n"
        },
        "id": "7P7mpepZMu1u"
      },
      "outputs": [],
      "source": [
        "import numpy as np\n",
        "import pandas as pd\n",
        "\n",
        "from sklearn.datasets import fetch_openml, load_iris\n",
        "from sklearn.preprocessing import StandardScaler, LabelEncoder\n",
        "from sklearn.model_selection import train_test_split, GridSearchCV\n",
        "from sklearn.neighbors import KNeighborsClassifier\n",
        "from sklearn.linear_model import LogisticRegression"
      ]
    },
    {
      "cell_type": "markdown",
      "metadata": {
        "collapsed": false,
        "id": "pxPTBX0gMu1v"
      },
      "source": [
        "#### Fetch the dataset from sklearn"
      ]
    },
    {
      "cell_type": "code",
      "execution_count": null,
      "metadata": {
        "pycharm": {
          "name": "#%%\n"
        },
        "id": "-Az37llwMu1w"
      },
      "outputs": [],
      "source": [
        "# Check load_iris documentation\n",
        "iris_df, iris_y = load_iris(return_X_y=True, as_frame=True)"
      ]
    },
    {
      "cell_type": "markdown",
      "metadata": {
        "collapsed": false,
        "id": "wB-S86MyMu1x"
      },
      "source": [
        "#### Check predictors X variable names and data size"
      ]
    },
    {
      "cell_type": "code",
      "execution_count": null,
      "metadata": {
        "pycharm": {
          "is_executing": true,
          "name": "#%%\n"
        },
        "id": "UQop4XeqMu1y"
      },
      "outputs": [],
      "source": [
        "print(f\"Predictors X variable names: {iris_df.columns}\")\n",
        "print(f\"X data size: {iris_df.shape}\")"
      ]
    },
    {
      "cell_type": "markdown",
      "metadata": {
        "collapsed": false,
        "id": "cT7SD5PyMu1z"
      },
      "source": [
        "#### Check the type of X , Y data\n",
        "\n",
        "X is a pandas.DataFrame and Y is a pandas.Series.\n",
        "These are the core data structures of pandas package."
      ]
    },
    {
      "cell_type": "code",
      "execution_count": null,
      "metadata": {
        "pycharm": {
          "is_executing": true,
          "name": "#%%\n"
        },
        "id": "qrmY8f5AMu10"
      },
      "outputs": [],
      "source": [
        "print(f\"Type of X data: {type(iris_df)}\")\n",
        "print(f\"Type of Y data: {type(iris_y)}\")"
      ]
    },
    {
      "cell_type": "markdown",
      "metadata": {
        "collapsed": false,
        "id": "OVK8Y_3KMu10"
      },
      "source": [
        "#### Print the first 5 rows of the predictive features"
      ]
    },
    {
      "cell_type": "code",
      "execution_count": null,
      "metadata": {
        "pycharm": {
          "is_executing": true,
          "name": "#%%\n"
        },
        "id": "GxYippVAMu11"
      },
      "outputs": [],
      "source": [
        "iris_df.head()"
      ]
    },
    {
      "cell_type": "markdown",
      "metadata": {
        "collapsed": false,
        "id": "oCqzJIj7Mu13"
      },
      "source": [
        "#### Print the first 5 values of the target variable"
      ]
    },
    {
      "cell_type": "code",
      "execution_count": null,
      "metadata": {
        "pycharm": {
          "is_executing": true,
          "name": "#%%\n"
        },
        "id": "94wHMHA3Mu13"
      },
      "outputs": [],
      "source": [
        "iris_y.head()"
      ]
    },
    {
      "cell_type": "markdown",
      "metadata": {
        "collapsed": false,
        "id": "C14jFS56Mu14"
      },
      "source": [
        "#### Check class distribution of Y"
      ]
    },
    {
      "cell_type": "code",
      "execution_count": null,
      "metadata": {
        "pycharm": {
          "is_executing": true,
          "name": "#%%\n"
        },
        "id": "bQpcsDRRMu14"
      },
      "outputs": [],
      "source": [
        "iris_y.value_counts()"
      ]
    },
    {
      "cell_type": "markdown",
      "metadata": {
        "collapsed": false,
        "id": "2bWArF76Mu15"
      },
      "source": [
        "#### Use ``train_test_split`` to prepare your train and test data\n",
        "Package documentation: [sklearn train_test_split](https://scikit-learn.org/stable/modules/generated/sklearn.model_selection.train_test_split.html)"
      ]
    },
    {
      "cell_type": "code",
      "execution_count": null,
      "metadata": {
        "pycharm": {
          "is_executing": true,
          "name": "#%%\n"
        },
        "id": "fXXy_xqJMu15"
      },
      "outputs": [],
      "source": [
        "iris_x_train, iris_x_test, iris_y_train, iris_y_test = train_test_split(\n",
        "    iris_df,\n",
        "    iris_y,\n",
        "    random_state=0,\n",
        "    stratify=iris_y\n",
        "    )"
      ]
    },
    {
      "cell_type": "markdown",
      "metadata": {
        "collapsed": false,
        "id": "W_eYSqhiMu15"
      },
      "source": [
        "#### Use `StandardScaler` from sklearn to standardize the predictors.\n",
        "\n",
        "Package documentation: [sklearn StandardScaler](https://scikit-learn.org/stable/modules/generated/sklearn.preprocessing.StandardScaler.html)\n",
        "\n",
        "Otherwise, once `StandardScaler` has been imported, use `help(StandardScaler)` to print its documentation.\n",
        "\n",
        "You can use `help` Python command to check the documentation of any function or class."
      ]
    },
    {
      "cell_type": "code",
      "execution_count": null,
      "metadata": {
        "pycharm": {
          "is_executing": true,
          "name": "#%%\n"
        },
        "id": "ABtHjoJfMu16"
      },
      "outputs": [],
      "source": [
        "scaler = StandardScaler()\n",
        "iris_x_train = scaler.fit_transform(iris_x_train)\n",
        "iris_x_test = scaler.transform(iris_x_test)\n",
        "#print(iris_x_train)"
      ]
    },
    {
      "cell_type": "markdown",
      "metadata": {
        "collapsed": false,
        "id": "p9t9PJLjMu16"
      },
      "source": [
        "#### Check class distribution in training and test Y.\n",
        "\n",
        "Hint: The `value_counts()` method can help here"
      ]
    },
    {
      "cell_type": "code",
      "execution_count": null,
      "metadata": {
        "pycharm": {
          "is_executing": true,
          "name": "#%%\n"
        },
        "id": "VbW62crdMu16"
      },
      "outputs": [],
      "source": [
        "print(f\"Training Y class count: \\n{iris_y_train.value_counts()}\\n\")\n",
        "print(f\"Test Y class count: \\n{iris_y_test.value_counts()}\")"
      ]
    },
    {
      "cell_type": "markdown",
      "metadata": {
        "collapsed": false,
        "id": "fxH_Z8MLMu16"
      },
      "source": [
        "#### Use again the `shape` function to check the dimensions of training and test X."
      ]
    },
    {
      "cell_type": "code",
      "execution_count": null,
      "metadata": {
        "pycharm": {
          "is_executing": true,
          "name": "#%%\n"
        },
        "id": "QXR3KM5FMu17"
      },
      "outputs": [],
      "source": [
        "print(iris_x_train.shape)\n",
        "print(iris_x_test.shape)"
      ]
    },
    {
      "cell_type": "markdown",
      "metadata": {
        "collapsed": false,
        "id": "0qdsB1R6Mu17"
      },
      "source": [
        "#### Classify with K-nn\n",
        "\n",
        "The Nearest-neighbors classifier is both conceptually simple and algorithmically efficient.\n",
        "\n",
        "It is, however, parametric so we need to choose the K parameter, the number of neighbors to compare each observation to."
      ]
    },
    {
      "cell_type": "code",
      "execution_count": null,
      "metadata": {
        "id": "IDD_cO1dMu17"
      },
      "outputs": [],
      "source": [
        "# get a feeling of the a. by running it for different values of K\n",
        "\n",
        "K = 5"
      ]
    },
    {
      "cell_type": "markdown",
      "metadata": {
        "collapsed": false,
        "id": "_jDK-VeOMu17"
      },
      "source": [
        "##### Fit the K-nn classifier to the training data"
      ]
    },
    {
      "cell_type": "code",
      "execution_count": null,
      "metadata": {
        "pycharm": {
          "is_executing": true,
          "name": "#%%\n"
        },
        "id": "I_JfPE8KMu18"
      },
      "outputs": [],
      "source": [
        "\n",
        "knn_classifier = KNeighborsClassifier(n_neighbors=K)\n",
        "\n",
        "knn_classifier.fit(iris_x_train, iris_y_train)"
      ]
    },
    {
      "cell_type": "markdown",
      "metadata": {
        "collapsed": false,
        "id": "ITVgYOYQMu18"
      },
      "source": [
        "##### Calculate K-nn training and test data accuracy"
      ]
    },
    {
      "cell_type": "code",
      "execution_count": null,
      "metadata": {
        "pycharm": {
          "is_executing": true,
          "name": "#%%\n"
        },
        "id": "S-f4Y0l3Mu18"
      },
      "outputs": [],
      "source": [
        "knn_train_accuracy = knn_classifier.score(iris_x_train, iris_y_train)\n",
        "\n",
        "knn_test_accuracy = knn_classifier.score(iris_x_test, iris_y_test)\n",
        "\n",
        "print(f\"K-nn training data accuracy: {round(knn_train_accuracy, 3)}\")\n",
        "\n",
        "print(f\"K-nn test data accuracy: {round(knn_test_accuracy, 3)}\")"
      ]
    },
    {
      "cell_type": "markdown",
      "metadata": {
        "collapsed": false,
        "id": "-hu8GASLMu18"
      },
      "source": [
        "\n",
        "\n",
        "##### Find the optimal value for K\n",
        "\n",
        "Let's use Grid Search and Cross Validation to find the best number of neighbors\n",
        "\n",
        "The default option of 5-fold cross validation is used.\n",
        "\n",
        "See the GridSearchCV documentation: [sklearn GridSearchCV](https://scikit-learn.org/stable/modules/generated/sklearn.model_selection.GridSearchCV.html)"
      ]
    },
    {
      "cell_type": "code",
      "execution_count": null,
      "metadata": {
        "pycharm": {
          "name": "#%%\n"
        },
        "id": "i6ypbFNEMu19"
      },
      "outputs": [],
      "source": [
        "# Define parameter grid\n",
        "num_neighbors = np.array([1, 3, 5, 8, 10, 15, 20, 25, 30])\n",
        "\n",
        "param_grid = dict(n_neighbors=num_neighbors)\n",
        "\n",
        "param_grid"
      ]
    },
    {
      "cell_type": "code",
      "execution_count": null,
      "metadata": {
        "pycharm": {
          "is_executing": true,
          "name": "#%%\n"
        },
        "id": "Zd93ZAJ6Mu19"
      },
      "outputs": [],
      "source": [
        "# Initialize model\n",
        "knn_model = KNeighborsClassifier()\n",
        "\n",
        "grid = GridSearchCV(\n",
        "    estimator=knn_model,\n",
        "    param_grid=param_grid,\n",
        "    scoring=\"accuracy\"\n",
        "    )\n",
        "\n",
        "# Run grid search\n",
        "grid.fit(iris_x_train, iris_y_train)\n",
        "\n",
        "best_n = grid.best_estimator_.n_neighbors\n",
        "\n",
        "# round up the result to 3 decimal places\n",
        "best_score = round(grid.best_score_, 3)\n",
        "\n",
        "print(f\"Best number of neighbors: {best_n}\")\n",
        "\n",
        "print(f\"Best achieved validation accuracy for {best_n} neighbors: {best_score}\")"
      ]
    },
    {
      "cell_type": "code",
      "execution_count": null,
      "metadata": {
        "pycharm": {
          "is_executing": true,
          "name": "#%%\n"
        },
        "id": "0Pm9XT2sMu19"
      },
      "outputs": [],
      "source": [
        "# Test best k-NN model on test set\n",
        "test_score = grid.score(iris_x_test, iris_y_test)\n",
        "\n",
        "print(f\"Test accuracy for {best_n} neighbors: {test_score}\")"
      ]
    },
    {
      "cell_type": "markdown",
      "metadata": {
        "collapsed": false,
        "id": "fgGpLsl6Mu1-"
      },
      "source": [
        "### Case study 2: *Classification with the Blood transfusion dataset*\n",
        "\n",
        "   - Available directly from sklearn, check the \"fetch_openml\" import statement further below.\n",
        "   - Details about the dataset: [https://www.openml.org/d/1464](https://www.openml.org/d/1464)\n",
        "  \n",
        "Take a few minutes to read about this simple prediction task.\n"
      ]
    },
    {
      "cell_type": "markdown",
      "metadata": {
        "id": "KVGIkMrCMu1-"
      },
      "source": [
        "#### Fetch the dataset from sklearn\n",
        "\n",
        "Below, the dataset is loaded as a scikit-learn object.\n",
        "\n",
        "The actual data (X, Y) are the \"data\" and \"target\" attributes of the object."
      ]
    },
    {
      "cell_type": "code",
      "execution_count": null,
      "metadata": {
        "pycharm": {
          "is_executing": true,
          "name": "#%%\n"
        },
        "id": "m-MIRE83Mu1-"
      },
      "outputs": [],
      "source": [
        "# Fetch the data - provided as sklearn.utils.bunch class\n",
        "blood_data = fetch_openml(\"blood-transfusion-service-center\")\n",
        "\n",
        "print(f\"blood dataset object type: {type(blood_data)}\")\n",
        "print(f\"Attributes of the loaded Python object: {dir(blood_data)}\")"
      ]
    },
    {
      "cell_type": "markdown",
      "metadata": {
        "collapsed": false,
        "id": "ZRIuPsvjMu1-"
      },
      "source": [
        "#### Check predictors X and target Y variable names and data size"
      ]
    },
    {
      "cell_type": "code",
      "execution_count": null,
      "metadata": {
        "pycharm": {
          "is_executing": true,
          "name": "#%%\n"
        },
        "id": "09YS_FBaMu1-"
      },
      "outputs": [],
      "source": [
        "print(f\"Predictors X variable names: {blood_data.feature_names}\")\n",
        "\n",
        "print(f\"Target Y variable name: {blood_data.target_names}\")\n",
        "\n",
        "print(f\"X data size: {blood_data.data.shape}\")"
      ]
    },
    {
      "cell_type": "markdown",
      "metadata": {
        "collapsed": false,
        "id": "KhYorSxNMu1_"
      },
      "source": [
        "#### Check the type of X and Y data\n",
        "\n",
        "X is a pandas.DataFrame and Y is a pandas.Series.\n",
        "These are the core data structures of pandas package."
      ]
    },
    {
      "cell_type": "code",
      "execution_count": null,
      "metadata": {
        "pycharm": {
          "is_executing": true,
          "name": "#%%\n"
        },
        "id": "Qf9Qbgx3Mu1_"
      },
      "outputs": [],
      "source": [
        "print(f\"Type of X data: {type(blood_data.data)}\")\n",
        "\n",
        "print(f\"Type of Y data: {type(blood_data.target)}\")"
      ]
    },
    {
      "cell_type": "markdown",
      "metadata": {
        "collapsed": false,
        "id": "0NB6p6PpMu1_"
      },
      "source": [
        "#### Print the first 5 rows of the predictive features"
      ]
    },
    {
      "cell_type": "code",
      "execution_count": null,
      "metadata": {
        "pycharm": {
          "is_executing": true,
          "name": "#%%\n"
        },
        "id": "xEh3wu_qMu1_"
      },
      "outputs": [],
      "source": [
        "blood_data.data.head()"
      ]
    },
    {
      "cell_type": "markdown",
      "metadata": {
        "collapsed": false,
        "id": "fgar3u5JMu1_"
      },
      "source": [
        "#### Print the first 5 values of the target variable"
      ]
    },
    {
      "cell_type": "code",
      "execution_count": null,
      "metadata": {
        "pycharm": {
          "is_executing": true,
          "name": "#%%\n"
        },
        "id": "NPtWq7tpMu2A"
      },
      "outputs": [],
      "source": [
        "blood_data.target.head()"
      ]
    },
    {
      "cell_type": "markdown",
      "metadata": {
        "collapsed": false,
        "id": "Y2e0R6TCMu2A"
      },
      "source": [
        "#### Check the class distribution of Y\n",
        "\n",
        "Is this a balanced dataset?"
      ]
    },
    {
      "cell_type": "code",
      "execution_count": null,
      "metadata": {
        "pycharm": {
          "is_executing": true,
          "name": "#%%\n"
        },
        "id": "BAXDgzupMu2A"
      },
      "outputs": [],
      "source": [
        "blood_data.target.value_counts()"
      ]
    },
    {
      "cell_type": "markdown",
      "metadata": {
        "collapsed": false,
        "id": "8YQY_KLtMu2A"
      },
      "source": [
        "#### Use ``train_test_split`` to prepare your train and test data\n",
        "\n",
        "As we see above, the class distribution is imbalanced...\n",
        "Hint: Look for a \"stratified\" ``train_test_split``!\n",
        "\n",
        "Package documentation: [sklearn train_test_split](https://scikit-learn.org/stable/modules/generated/sklearn.model_selection.train_test_split.html)"
      ]
    },
    {
      "cell_type": "code",
      "execution_count": null,
      "metadata": {
        "pycharm": {
          "is_executing": true,
          "name": "#%%\n"
        },
        "id": "af_xPXypMu2B"
      },
      "outputs": [],
      "source": [
        "x_train, x_test, y_train, y_test = train_test_split(\n",
        "    blood_data.data,\n",
        "    blood_data.target,\n",
        "    random_state=0,\n",
        "    stratify=blood_data.target\n",
        "    )"
      ]
    },
    {
      "cell_type": "markdown",
      "metadata": {
        "collapsed": false,
        "id": "R8VxGWq5Mu2B"
      },
      "source": [
        "#### Use ``StandardScaler`` from sklearn to standardize the predictors.\n",
        "\n",
        "Package documentation: [sklearn StandardScaler](https://scikit-learn.org/stable/modules/generated/sklearn.preprocessing.StandardScaler.html)\n",
        "\n",
        "Otherwise, once ``StandardScaler`` has been imported, use ``help(StandardScaler)`` to print its documentation.\n",
        "You can use ``help`` Python command to check the documentation of any function or class."
      ]
    },
    {
      "cell_type": "code",
      "execution_count": null,
      "metadata": {
        "pycharm": {
          "is_executing": true,
          "name": "#%%\n"
        },
        "id": "wVHk8n1lMu2B"
      },
      "outputs": [],
      "source": [
        "scaler = StandardScaler()\n",
        "\n",
        "x_train = scaler.fit_transform(x_train)\n",
        "x_test = scaler.transform(x_test)"
      ]
    },
    {
      "cell_type": "markdown",
      "metadata": {
        "collapsed": false,
        "id": "FanY8LKXMu2B"
      },
      "source": [
        "#### Check class distribution in training and test Y.\n",
        "\n",
        "Hint: The ``value_counts()`` method can help here"
      ]
    },
    {
      "cell_type": "code",
      "execution_count": null,
      "metadata": {
        "pycharm": {
          "is_executing": true,
          "name": "#%%\n"
        },
        "id": "b6eX3fBGMu2B"
      },
      "outputs": [],
      "source": [
        "print(f\"Training Y class count: \\n{y_train.value_counts()}\\n\")\n",
        "print(f\"Test Y class count: \\n{y_test.value_counts()}\")"
      ]
    },
    {
      "cell_type": "markdown",
      "metadata": {
        "collapsed": false,
        "id": "yXTSO87cMu2B"
      },
      "source": [
        "#### Use ``LabelEncoder``  to encode target labels with values between 0 and (n_classes-1).\n",
        "\n",
        "Package documentation: [sklearn LabelEncoder](https://scikit-learn.org/stable/modules/generated/sklearn.preprocessing.LabelEncoder.html)"
      ]
    },
    {
      "cell_type": "code",
      "execution_count": null,
      "metadata": {
        "pycharm": {
          "is_executing": true,
          "name": "#%%\n"
        },
        "id": "Cquv9hhrMu2C"
      },
      "outputs": [],
      "source": [
        "label_encoder = LabelEncoder()\n",
        "\n",
        "y_train = label_encoder.fit_transform(y_train)\n",
        "y_test = label_encoder.transform(y_test)\n",
        "\n",
        "mappings = {label: i for i, label in enumerate(label_encoder.classes_)}\n",
        "print(f\"Label Encoder Mapping: {mappings}\")"
      ]
    },
    {
      "cell_type": "markdown",
      "metadata": {
        "collapsed": false,
        "id": "68Uktm2GMu2C"
      },
      "source": [
        "#### Use again the ``shape`` function to check the dimensions of training and test X."
      ]
    },
    {
      "cell_type": "code",
      "execution_count": null,
      "metadata": {
        "pycharm": {
          "is_executing": true,
          "name": "#%%\n"
        },
        "id": "Rqh9yIujMu2C"
      },
      "outputs": [],
      "source": [
        "print(x_train.shape)\n",
        "print(x_test.shape)"
      ]
    },
    {
      "cell_type": "markdown",
      "metadata": {
        "collapsed": false,
        "id": "ROXESeHRMu2D"
      },
      "source": [
        "#### Classify with K-nn"
      ]
    },
    {
      "cell_type": "markdown",
      "metadata": {
        "collapsed": false,
        "id": "f78d9MA7Mu2D"
      },
      "source": [
        "##### Check ``KNeighborsClassifier`` documentation:\n",
        "[sklearn KNeighborsClassifier](https://scikit-learn.org/stable/modules/generated/sklearn.neighbors.KNeighborsClassifier.html)"
      ]
    },
    {
      "cell_type": "markdown",
      "metadata": {
        "collapsed": false,
        "id": "dIQ8pXlrMu2D"
      },
      "source": [
        "##### Fit a K-nn model\n",
        "\n",
        "Again, we are dealing with parameter optimization"
      ]
    },
    {
      "cell_type": "code",
      "execution_count": null,
      "metadata": {
        "id": "_zl5Mnl0Mu2D"
      },
      "outputs": [],
      "source": [
        "K=5"
      ]
    },
    {
      "cell_type": "code",
      "execution_count": null,
      "metadata": {
        "pycharm": {
          "is_executing": true,
          "name": "#%%\n"
        },
        "id": "poR7tUV5Mu2D"
      },
      "outputs": [],
      "source": [
        "knn_classifier = KNeighborsClassifier(n_neighbors=K)\n",
        "\n",
        "knn_classifier.fit(x_train, y_train)"
      ]
    },
    {
      "cell_type": "markdown",
      "metadata": {
        "collapsed": false,
        "id": "w87wjGsgMu2E"
      },
      "source": [
        "##### Calculate K-nn training and test data accuracy"
      ]
    },
    {
      "cell_type": "code",
      "execution_count": null,
      "metadata": {
        "pycharm": {
          "is_executing": true,
          "name": "#%%\n"
        },
        "id": "acNR9BBzMu2E"
      },
      "outputs": [],
      "source": [
        "knn_train_accuracy = knn_classifier.score(x_train, y_train)\n",
        "\n",
        "knn_test_accuracy = knn_classifier.score(x_test, y_test)\n",
        "\n",
        "print(f\"K-nn training data accuracy: {round(knn_train_accuracy, 3)}\")\n",
        "\n",
        "print(f\"K-nn test data accuracy: {round(knn_test_accuracy, 3)}\")"
      ]
    },
    {
      "cell_type": "markdown",
      "metadata": {
        "collapsed": false,
        "id": "Rv1J1gFeMu2E"
      },
      "source": [
        "##### Use Grid Search and Cross Validation to find the best number of neighbors\n",
        "\n",
        "The default option of 5-fold cross validation is used.\n",
        "GridSearchCV documentation: [sklearn GridSearchCV](https://scikit-learn.org/stable/modules/generated/sklearn.model_selection.GridSearchCV.html)"
      ]
    },
    {
      "cell_type": "code",
      "execution_count": null,
      "metadata": {
        "pycharm": {
          "is_executing": true,
          "name": "#%%\n"
        },
        "id": "xmF2Br6tMu2E"
      },
      "outputs": [],
      "source": [
        "# Define parameter grid\n",
        "num_neighbors = np.array([1, 3, 5, 8, 10, 15, 20, 25, 30])\n",
        "param_grid = dict(n_neighbors=num_neighbors)\n",
        "\n",
        "param_grid"
      ]
    },
    {
      "cell_type": "code",
      "execution_count": null,
      "metadata": {
        "pycharm": {
          "is_executing": true,
          "name": "#%%\n"
        },
        "id": "pG24H9-fMu2E"
      },
      "outputs": [],
      "source": [
        "# Initialize model\n",
        "knn_model = KNeighborsClassifier()\n",
        "grid = GridSearchCV(\n",
        "    estimator=knn_model,\n",
        "    param_grid=param_grid,\n",
        "    scoring=\"accuracy\"\n",
        "    )\n",
        "\n",
        "# Run grid search\n",
        "grid.fit(x_train, y_train)\n",
        "best_n = grid.best_estimator_.n_neighbors\n",
        "best_score = round(grid.best_score_, 3)\n",
        "\n",
        "print(f\"Best number of neighbors: {best_n}\")\n",
        "print(f\"Best achieved test accuracy for {best_n} neighbors: {best_score}\")"
      ]
    },
    {
      "cell_type": "code",
      "execution_count": null,
      "metadata": {
        "pycharm": {
          "is_executing": true,
          "name": "#%%\n"
        },
        "id": "0P2X1IV2Mu2F"
      },
      "outputs": [],
      "source": [
        "# Test best k-NN model on test set\n",
        "test_score = grid.score(x_test, y_test)\n",
        "print(f\"Test accuracy for {best_n} neighbors: {test_score}\")"
      ]
    },
    {
      "cell_type": "markdown",
      "metadata": {
        "collapsed": false,
        "id": "NfDK8rAIMu2F"
      },
      "source": [
        "### In-class Exercise\n",
        "\n",
        "\n",
        "Choose either the blood transfusion or the Iris dataset.\n",
        "\n",
        "Then train and evaluate `sklearn.linear_model.LogisticRegression` on the chosen dataset.\n",
        "\n",
        "How does it perform on the training set vs. the test set?\n",
        "\n"
      ]
    },
    {
      "cell_type": "code",
      "execution_count": null,
      "metadata": {
        "pycharm": {
          "name": "#%%\n"
        },
        "id": "yh3sNsBdMu2F"
      },
      "outputs": [],
      "source": [
        "# Initialize and fit model\n"
      ]
    },
    {
      "cell_type": "code",
      "execution_count": null,
      "metadata": {
        "pycharm": {
          "name": "#%%\n"
        },
        "id": "yLTuvpOdMu2F"
      },
      "outputs": [],
      "source": [
        "# Score training and test data\n"
      ]
    },
    {
      "cell_type": "markdown",
      "metadata": {
        "collapsed": false,
        "id": "VH3V6GMjMu2F"
      },
      "source": [
        "### Take-home exercise (discretionary)\n",
        "\n",
        "Can you construct a binary classification dataset (using, e.g., `np.random`) where `sklearn.linear_model.LogisticRegression` achieves an accuracy of 1?\n",
        "\n"
      ]
    },
    {
      "cell_type": "code",
      "execution_count": null,
      "metadata": {
        "pycharm": {
          "name": "#%%\n"
        },
        "id": "GHFiwtJZMu2G"
      },
      "outputs": [],
      "source": [
        "# your code here."
      ]
    }
  ],
  "metadata": {
    "anaconda-cloud": {},
    "colab": {
      "provenance": [],
      "include_colab_link": true
    },
    "kernelspec": {
      "display_name": "Python 3",
      "language": "python",
      "name": "python3"
    },
    "language_info": {
      "codemirror_mode": {
        "name": "ipython",
        "version": 3
      },
      "file_extension": ".py",
      "mimetype": "text/x-python",
      "name": "python",
      "nbconvert_exporter": "python",
      "pygments_lexer": "ipython3",
      "version": "3.13.3"
    }
  },
  "nbformat": 4,
  "nbformat_minor": 0
}